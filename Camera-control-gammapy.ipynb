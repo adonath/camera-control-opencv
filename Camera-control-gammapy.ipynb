{
 "cells": [
  {
   "cell_type": "markdown",
   "id": "ec1639c8-7e6b-4752-8e7b-77bc9ac67669",
   "metadata": {},
   "source": [
    "## Controling the webcam using Open-CV\n",
    "\n",
    "F. Acero, March 2024 \n",
    "Taken from :  \n",
    "https://abauville.medium.com/display-your-live-webcam-feed-in-a-jupyter-notebook-using-opencv-d01eb75921d1  \n",
    "\n",
    "Install open-cv using `conda install opencv`.\n",
    "\n",
    "\n",
    "Taking the feed of the webcam and applying a Poisson noise on it.  \n",
    "The image is an RVB array of type `UINT8`.  \n",
    "The range goes from 0 to 255 and to have an effect of Poisson noise, the image is divided by some factor to have small values. \n",
    "\n",
    "\n",
    "Type `q` to stop the webcam feed.  Restart the notebook to release the feed."
   ]
  },
  {
   "cell_type": "code",
   "execution_count": 6,
   "id": "45c5603d-bd27-4af8-8f7c-f42a29ea64e9",
   "metadata": {},
   "outputs": [],
   "source": [
    "\n",
    "import cv2 \n",
    "import numpy as np\n",
    "#from IPython.display import display, Image\n",
    "#import ipywidgets as widgets\n",
    "#import matplotlib.pyplot as plt\n"
   ]
  },
  {
   "cell_type": "code",
   "execution_count": 7,
   "id": "b72d1a97-8ec6-4f3d-a188-26ae45c1f099",
   "metadata": {},
   "outputs": [],
   "source": [
    "import numpy as np\n",
    "\n",
    "frameWidth = 640\n",
    "frameHeight = 480\n",
    "\n",
    "#frameWidth = 800\n",
    "#frameHeight = 600\n",
    "\n",
    "cap = cv2.VideoCapture(0)\n",
    "cap.set(3, frameWidth)  # 3=width, 4=height\n",
    "cap.set(4, frameHeight)\n",
    "\n",
    "while True:\n",
    "    success, imgColor, = cap.read()\n",
    "    \n",
    "    # ORIG IMG\n",
    "    #img = cv2.resize(imgColor, (frameWidth, frameHeight))  # if want to resize frame\n",
    "    #cv2.moveWindow(\"img\", 0, 0)  # relocate shift reposition move so frame is at top left corner of monitor\n",
    "    #cv2.imshow(\"img\", img)\n",
    "    \n",
    "    # COLOR ENHANCED\n",
    "    cv2.moveWindow(\"imgColor\", 500, 0)  # relocate shift reposition move to side by side\n",
    "\n",
    "    factor = 100 # lower the signal to add noise. Remulitply by factor to scale to a 256 scale \n",
    "    gamma_image = np.random.poisson(imgColor/factor).astype('uint8')*factor\n",
    "\n",
    "#    imgColor = cv2.blur(imgColor,(10,10) ) # blurring is too slow to be in real time\n",
    "    cv2.imshow(\"imgColor\", cv2.applyColorMap(gamma_image, cv2.COLORMAP_INFERNO))  # Noisy image\n",
    "#    cv2.imshow(\"imgColor\", cv2.applyColorMap(cv2.Canny(imgColor,50,50), cv2.COLORMAP_INFERNO))  # Canny edge detection algorithm\n",
    "\n",
    "    if cv2.waitKey(1) & 0xFF == ord('q'):\n",
    "        break"
   ]
  },
  {
   "cell_type": "code",
   "execution_count": null,
   "id": "04997bbf-9038-4d73-8b4a-cc29bc751e2d",
   "metadata": {},
   "outputs": [],
   "source": []
  }
 ],
 "metadata": {
  "kernelspec": {
   "display_name": "Python 3 (ipykernel)",
   "language": "python",
   "name": "python3"
  },
  "language_info": {
   "codemirror_mode": {
    "name": "ipython",
    "version": 3
   },
   "file_extension": ".py",
   "mimetype": "text/x-python",
   "name": "python",
   "nbconvert_exporter": "python",
   "pygments_lexer": "ipython3",
   "version": "3.9.18"
  }
 },
 "nbformat": 4,
 "nbformat_minor": 5
}
